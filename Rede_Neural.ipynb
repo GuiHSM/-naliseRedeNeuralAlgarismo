{
  "nbformat": 4,
  "nbformat_minor": 0,
  "metadata": {
    "colab": {
      "provenance": [],
      "collapsed_sections": []
    },
    "kernelspec": {
      "name": "python3",
      "display_name": "Python 3"
    },
    "language_info": {
      "name": "python"
    },
    "accelerator": "GPU",
    "widgets": {
      "application/vnd.jupyter.widget-state+json": {
        "0c6015084e21452bbcf1cee384a2b288": {
          "model_module": "@jupyter-widgets/controls",
          "model_name": "HBoxModel",
          "model_module_version": "1.5.0",
          "state": {
            "_dom_classes": [],
            "_model_module": "@jupyter-widgets/controls",
            "_model_module_version": "1.5.0",
            "_model_name": "HBoxModel",
            "_view_count": null,
            "_view_module": "@jupyter-widgets/controls",
            "_view_module_version": "1.5.0",
            "_view_name": "HBoxView",
            "box_style": "",
            "children": [
              "IPY_MODEL_6d14d9c85e1e4914a06d6334a06b95ff",
              "IPY_MODEL_75072a5a22fd4ce984158b8a3752629b",
              "IPY_MODEL_6f5f98676fa04144a15c08b407c12b87"
            ],
            "layout": "IPY_MODEL_5df3ba3fd1a944ba95e8e609beb21250"
          }
        },
        "6d14d9c85e1e4914a06d6334a06b95ff": {
          "model_module": "@jupyter-widgets/controls",
          "model_name": "HTMLModel",
          "model_module_version": "1.5.0",
          "state": {
            "_dom_classes": [],
            "_model_module": "@jupyter-widgets/controls",
            "_model_module_version": "1.5.0",
            "_model_name": "HTMLModel",
            "_view_count": null,
            "_view_module": "@jupyter-widgets/controls",
            "_view_module_version": "1.5.0",
            "_view_name": "HTMLView",
            "description": "",
            "description_tooltip": null,
            "layout": "IPY_MODEL_3ebd304741024a5984def025775ad18d",
            "placeholder": "​",
            "style": "IPY_MODEL_a44b72cf384e49ebb808d84f29ba3b6c",
            "value": "100%"
          }
        },
        "75072a5a22fd4ce984158b8a3752629b": {
          "model_module": "@jupyter-widgets/controls",
          "model_name": "FloatProgressModel",
          "model_module_version": "1.5.0",
          "state": {
            "_dom_classes": [],
            "_model_module": "@jupyter-widgets/controls",
            "_model_module_version": "1.5.0",
            "_model_name": "FloatProgressModel",
            "_view_count": null,
            "_view_module": "@jupyter-widgets/controls",
            "_view_module_version": "1.5.0",
            "_view_name": "ProgressView",
            "bar_style": "success",
            "description": "",
            "description_tooltip": null,
            "layout": "IPY_MODEL_97459ae77d814db383b408a0b126806d",
            "max": 561753746,
            "min": 0,
            "orientation": "horizontal",
            "style": "IPY_MODEL_75502bf298b14336aba2118b8ec88b10",
            "value": 561753746
          }
        },
        "6f5f98676fa04144a15c08b407c12b87": {
          "model_module": "@jupyter-widgets/controls",
          "model_name": "HTMLModel",
          "model_module_version": "1.5.0",
          "state": {
            "_dom_classes": [],
            "_model_module": "@jupyter-widgets/controls",
            "_model_module_version": "1.5.0",
            "_model_name": "HTMLModel",
            "_view_count": null,
            "_view_module": "@jupyter-widgets/controls",
            "_view_module_version": "1.5.0",
            "_view_name": "HTMLView",
            "description": "",
            "description_tooltip": null,
            "layout": "IPY_MODEL_f1c3fe6a10c64ae1928893a5e6427886",
            "placeholder": "​",
            "style": "IPY_MODEL_3e7856ca94974774a12ccb5c1a5cf8c9",
            "value": " 561753746/561753746 [00:07&lt;00:00, 79226575.20it/s]"
          }
        },
        "5df3ba3fd1a944ba95e8e609beb21250": {
          "model_module": "@jupyter-widgets/base",
          "model_name": "LayoutModel",
          "model_module_version": "1.2.0",
          "state": {
            "_model_module": "@jupyter-widgets/base",
            "_model_module_version": "1.2.0",
            "_model_name": "LayoutModel",
            "_view_count": null,
            "_view_module": "@jupyter-widgets/base",
            "_view_module_version": "1.2.0",
            "_view_name": "LayoutView",
            "align_content": null,
            "align_items": null,
            "align_self": null,
            "border": null,
            "bottom": null,
            "display": null,
            "flex": null,
            "flex_flow": null,
            "grid_area": null,
            "grid_auto_columns": null,
            "grid_auto_flow": null,
            "grid_auto_rows": null,
            "grid_column": null,
            "grid_gap": null,
            "grid_row": null,
            "grid_template_areas": null,
            "grid_template_columns": null,
            "grid_template_rows": null,
            "height": null,
            "justify_content": null,
            "justify_items": null,
            "left": null,
            "margin": null,
            "max_height": null,
            "max_width": null,
            "min_height": null,
            "min_width": null,
            "object_fit": null,
            "object_position": null,
            "order": null,
            "overflow": null,
            "overflow_x": null,
            "overflow_y": null,
            "padding": null,
            "right": null,
            "top": null,
            "visibility": null,
            "width": null
          }
        },
        "3ebd304741024a5984def025775ad18d": {
          "model_module": "@jupyter-widgets/base",
          "model_name": "LayoutModel",
          "model_module_version": "1.2.0",
          "state": {
            "_model_module": "@jupyter-widgets/base",
            "_model_module_version": "1.2.0",
            "_model_name": "LayoutModel",
            "_view_count": null,
            "_view_module": "@jupyter-widgets/base",
            "_view_module_version": "1.2.0",
            "_view_name": "LayoutView",
            "align_content": null,
            "align_items": null,
            "align_self": null,
            "border": null,
            "bottom": null,
            "display": null,
            "flex": null,
            "flex_flow": null,
            "grid_area": null,
            "grid_auto_columns": null,
            "grid_auto_flow": null,
            "grid_auto_rows": null,
            "grid_column": null,
            "grid_gap": null,
            "grid_row": null,
            "grid_template_areas": null,
            "grid_template_columns": null,
            "grid_template_rows": null,
            "height": null,
            "justify_content": null,
            "justify_items": null,
            "left": null,
            "margin": null,
            "max_height": null,
            "max_width": null,
            "min_height": null,
            "min_width": null,
            "object_fit": null,
            "object_position": null,
            "order": null,
            "overflow": null,
            "overflow_x": null,
            "overflow_y": null,
            "padding": null,
            "right": null,
            "top": null,
            "visibility": null,
            "width": null
          }
        },
        "a44b72cf384e49ebb808d84f29ba3b6c": {
          "model_module": "@jupyter-widgets/controls",
          "model_name": "DescriptionStyleModel",
          "model_module_version": "1.5.0",
          "state": {
            "_model_module": "@jupyter-widgets/controls",
            "_model_module_version": "1.5.0",
            "_model_name": "DescriptionStyleModel",
            "_view_count": null,
            "_view_module": "@jupyter-widgets/base",
            "_view_module_version": "1.2.0",
            "_view_name": "StyleView",
            "description_width": ""
          }
        },
        "97459ae77d814db383b408a0b126806d": {
          "model_module": "@jupyter-widgets/base",
          "model_name": "LayoutModel",
          "model_module_version": "1.2.0",
          "state": {
            "_model_module": "@jupyter-widgets/base",
            "_model_module_version": "1.2.0",
            "_model_name": "LayoutModel",
            "_view_count": null,
            "_view_module": "@jupyter-widgets/base",
            "_view_module_version": "1.2.0",
            "_view_name": "LayoutView",
            "align_content": null,
            "align_items": null,
            "align_self": null,
            "border": null,
            "bottom": null,
            "display": null,
            "flex": null,
            "flex_flow": null,
            "grid_area": null,
            "grid_auto_columns": null,
            "grid_auto_flow": null,
            "grid_auto_rows": null,
            "grid_column": null,
            "grid_gap": null,
            "grid_row": null,
            "grid_template_areas": null,
            "grid_template_columns": null,
            "grid_template_rows": null,
            "height": null,
            "justify_content": null,
            "justify_items": null,
            "left": null,
            "margin": null,
            "max_height": null,
            "max_width": null,
            "min_height": null,
            "min_width": null,
            "object_fit": null,
            "object_position": null,
            "order": null,
            "overflow": null,
            "overflow_x": null,
            "overflow_y": null,
            "padding": null,
            "right": null,
            "top": null,
            "visibility": null,
            "width": null
          }
        },
        "75502bf298b14336aba2118b8ec88b10": {
          "model_module": "@jupyter-widgets/controls",
          "model_name": "ProgressStyleModel",
          "model_module_version": "1.5.0",
          "state": {
            "_model_module": "@jupyter-widgets/controls",
            "_model_module_version": "1.5.0",
            "_model_name": "ProgressStyleModel",
            "_view_count": null,
            "_view_module": "@jupyter-widgets/base",
            "_view_module_version": "1.2.0",
            "_view_name": "StyleView",
            "bar_color": null,
            "description_width": ""
          }
        },
        "f1c3fe6a10c64ae1928893a5e6427886": {
          "model_module": "@jupyter-widgets/base",
          "model_name": "LayoutModel",
          "model_module_version": "1.2.0",
          "state": {
            "_model_module": "@jupyter-widgets/base",
            "_model_module_version": "1.2.0",
            "_model_name": "LayoutModel",
            "_view_count": null,
            "_view_module": "@jupyter-widgets/base",
            "_view_module_version": "1.2.0",
            "_view_name": "LayoutView",
            "align_content": null,
            "align_items": null,
            "align_self": null,
            "border": null,
            "bottom": null,
            "display": null,
            "flex": null,
            "flex_flow": null,
            "grid_area": null,
            "grid_auto_columns": null,
            "grid_auto_flow": null,
            "grid_auto_rows": null,
            "grid_column": null,
            "grid_gap": null,
            "grid_row": null,
            "grid_template_areas": null,
            "grid_template_columns": null,
            "grid_template_rows": null,
            "height": null,
            "justify_content": null,
            "justify_items": null,
            "left": null,
            "margin": null,
            "max_height": null,
            "max_width": null,
            "min_height": null,
            "min_width": null,
            "object_fit": null,
            "object_position": null,
            "order": null,
            "overflow": null,
            "overflow_x": null,
            "overflow_y": null,
            "padding": null,
            "right": null,
            "top": null,
            "visibility": null,
            "width": null
          }
        },
        "3e7856ca94974774a12ccb5c1a5cf8c9": {
          "model_module": "@jupyter-widgets/controls",
          "model_name": "DescriptionStyleModel",
          "model_module_version": "1.5.0",
          "state": {
            "_model_module": "@jupyter-widgets/controls",
            "_model_module_version": "1.5.0",
            "_model_name": "DescriptionStyleModel",
            "_view_count": null,
            "_view_module": "@jupyter-widgets/base",
            "_view_module_version": "1.2.0",
            "_view_name": "StyleView",
            "description_width": ""
          }
        }
      }
    }
  },
  "cells": [
    {
      "cell_type": "markdown",
      "source": [
        "<h1>Importações Necessárias:<h1>\n",
        "\n",
        "\n"
      ],
      "metadata": {
        "id": "eYTTE18aRA09"
      }
    },
    {
      "cell_type": "code",
      "execution_count": null,
      "metadata": {
        "id": "km4sa5zeXcnA"
      },
      "outputs": [],
      "source": [
        "import matplotlib.pyplot as plt # for plotting\n",
        "import numpy as np # for transformation\n",
        "import torch # PyTorch package\n",
        "import torchvision # load datasets\n",
        "import torchvision.transforms as transforms # transform data\n",
        "import torch.nn as nn # basic building block for neural neteorks\n",
        "import torch.nn.functional as F # import convolution functions like Relu\n",
        "import torch.optim as optim # optimzer\n",
        "from sklearn.cluster import KMeans\n",
        "from PIL import Image, ImageOps\n",
        "from torchvision.io import read_image \n",
        "from torchvision.io import write_jpeg\n",
        "import matplotlib.pyplot as plt\n",
        "import math"
      ]
    },
    {
      "cell_type": "code",
      "source": [
        "#Constantes\n",
        "transform = transforms.Compose([\n",
        "transforms.ToTensor(),transforms.Normalize(mean=0.5, std=0.5)])\n",
        "batch_size = 4\n",
        "num_workers = 1\n",
        "base_path='/content/drive/MyDrive/Rede Neural/'\n",
        "qtd_fotos={\"Treino\":[45,45,45,44,45,45,45,39,45,45],\n",
        "                  \"Testes\":[15,15,15,18,30,17,15,27,15,15]}\n",
        "inicio=\"LR_\"\n",
        "treino=\"Treino_Sampaio_Matsumoto/\"\n",
        "teste=\"Testes_Sampaio_Matsumoto/\"\n",
        "ha_arrumar=\"Ha_Arrumar/\"\n",
        "arrumado=\"Arrumados/\"\n",
        "altura=128\n",
        "largura=72\n",
        "input_size = altura*largura*3\n",
        "hidden_size = 100000\n",
        "output_size = 10"
      ],
      "metadata": {
        "id": "dvz__i9nY4ZK"
      },
      "execution_count": null,
      "outputs": []
    },
    {
      "cell_type": "code",
      "source": [
        "def resize(x,y,treinamento):\n",
        "  '''\n",
        "  (int,int)->None\n",
        "  Esta função é responsável por dar Resize nas imagens dos algarismos de x a y(inclusivo) de \n",
        "  AxBp para 28x28p para garantir que a rede neural não fique pesada demais\n",
        "  '''\n",
        "  if treinamento:\n",
        "    tipo_bd=treino\n",
        "  else:\n",
        "    tipo_bd=teste\n",
        "  for j in range(x,y+1):\n",
        "    for i in range(qtd_fotos[tipo_bd[:6]][j]):\n",
        "      path=base_path+tipo_bd+inicio+str(j)+\"/\"+str(j)+str(i+1)+\".jpg\"\n",
        "      image = Image.open(path).convert('L')\n",
        "      new_image = ImageOps.flip(image)\n",
        "      new_image = new_image.resize((28, 28)).rotate(90)\n",
        "      \n",
        "      new_image.save(base_path+tipo_bd+ha_arrumar+str(j)+str(i+1)+\".jpg\")\n",
        "    "
      ],
      "metadata": {
        "id": "xOAQP9Y7njlc"
      },
      "execution_count": null,
      "outputs": []
    },
    {
      "cell_type": "code",
      "source": [
        "def to_black(x,y,treinamento):\n",
        "  tipo_bd=teste\n",
        "  if treinamento:\n",
        "    tipo_bd=treino\n",
        "  for j in range(x,y+1):\n",
        "    for i in range(qtd_fotos[tipo_bd[:6]][j]):\n",
        "      val = read_image(base_path+tipo_bd+ha_arrumar+str(j)+str(i+1)+\".jpg\")\n",
        "      for x in range(val.shape[0]):\n",
        "        for k in range(val.shape[1]):\n",
        "          for h in range(val.shape[2]):\n",
        "            if(val[x][k][h]>con):\n",
        "              val[x][k][h]=255\n",
        "            else:\n",
        "              val[x][k][h]=0\n",
        "      \n",
        "      \n",
        "      write_jpeg(val,base_path+tipo_bd+arrumado+str(j)+str(i+1)+\".jpg\")"
      ],
      "metadata": {
        "id": "uGY6YPYxxmu2"
      },
      "execution_count": null,
      "outputs": []
    },
    {
      "cell_type": "code",
      "source": [
        "print(sum(qtd_fotos[teste[:6]]))"
      ],
      "metadata": {
        "colab": {
          "base_uri": "https://localhost:8080/"
        },
        "id": "UrP5xwoBulvY",
        "outputId": "739ff498-1a83-4f38-c41a-0e72567c4a62"
      },
      "execution_count": null,
      "outputs": [
        {
          "output_type": "stream",
          "name": "stdout",
          "text": [
            "182\n"
          ]
        }
      ]
    },
    {
      "cell_type": "code",
      "source": [
        "from google.colab import drive\n",
        "drive.mount('/content/drive')"
      ],
      "metadata": {
        "colab": {
          "base_uri": "https://localhost:8080/"
        },
        "id": "sf54YRjjvIx_",
        "outputId": "366ae079-298e-4159-f404-1a7bbd8e7b9f"
      },
      "execution_count": null,
      "outputs": [
        {
          "output_type": "stream",
          "name": "stdout",
          "text": [
            "Mounted at /content/drive\n"
          ]
        }
      ]
    },
    {
      "cell_type": "code",
      "source": [
        "# load train data\n",
        "trainset = torchvision.datasets.EMNIST(root='./data', train=True,\n",
        "                                       download=True, transform=transform,split=\"digits\")\n",
        "trainloader = torch.utils.data.DataLoader(trainset, batch_size=batch_size,\n",
        "                                          shuffle=True, num_workers=num_workers, collate_fn=torch.utils.data.default_collate)\n",
        "\n",
        "# load test data\n",
        "testset = torchvision.datasets.EMNIST(root='./data', train=False,\n",
        "                                       download=True, transform=transform,split=\"digits\")\n",
        "testloader = torch.utils.data.DataLoader(testset, batch_size=batch_size,\n",
        "                                         shuffle=False, num_workers=num_workers)\n",
        "\n",
        "# put 10 classes into a set\n",
        "classes = ('0','1', '2', '3', '4',\n",
        "           '5', '6', '7', '8', '9')\n",
        "print(trainloader)"
      ],
      "metadata": {
        "colab": {
          "base_uri": "https://localhost:8080/",
          "height": 101,
          "referenced_widgets": [
            "0c6015084e21452bbcf1cee384a2b288",
            "6d14d9c85e1e4914a06d6334a06b95ff",
            "75072a5a22fd4ce984158b8a3752629b",
            "6f5f98676fa04144a15c08b407c12b87",
            "5df3ba3fd1a944ba95e8e609beb21250",
            "3ebd304741024a5984def025775ad18d",
            "a44b72cf384e49ebb808d84f29ba3b6c",
            "97459ae77d814db383b408a0b126806d",
            "75502bf298b14336aba2118b8ec88b10",
            "f1c3fe6a10c64ae1928893a5e6427886",
            "3e7856ca94974774a12ccb5c1a5cf8c9"
          ]
        },
        "id": "Y4oOqgrrWR-c",
        "outputId": "2d45e4f9-a282-4c47-8fcb-8a2dd93e90b2"
      },
      "execution_count": null,
      "outputs": [
        {
          "output_type": "stream",
          "name": "stdout",
          "text": [
            "Downloading https://www.itl.nist.gov/iaui/vip/cs_links/EMNIST/gzip.zip to ./data/EMNIST/raw/gzip.zip\n"
          ]
        },
        {
          "output_type": "display_data",
          "data": {
            "text/plain": [
              "  0%|          | 0/561753746 [00:00<?, ?it/s]"
            ],
            "application/vnd.jupyter.widget-view+json": {
              "version_major": 2,
              "version_minor": 0,
              "model_id": "0c6015084e21452bbcf1cee384a2b288"
            }
          },
          "metadata": {}
        },
        {
          "output_type": "stream",
          "name": "stdout",
          "text": [
            "Extracting ./data/EMNIST/raw/gzip.zip to ./data/EMNIST/raw\n",
            "<torch.utils.data.dataloader.DataLoader object at 0x7f646fc24190>\n"
          ]
        }
      ]
    },
    {
      "cell_type": "code",
      "source": [
        "def imshow(img):\n",
        "  ''' function to show image '''\n",
        "  img = img / 2 + 0.5 # unnormalize\n",
        "  npimg = img.numpy() # convert to numpy objects\n",
        "  plt.imshow(np.transpose(npimg, (1, 2, 0)))\n",
        "  plt.show()\n",
        "\n",
        "# get random training images with iter function\n",
        "dataiter = iter(trainloader)\n",
        "images, labels = dataiter.next()\n",
        "print(images.shape)\n",
        "# call function on our images\n",
        "imshow(torchvision.utils.make_grid(images))\n",
        "\n",
        "# print the class of the image\n",
        "print(' '.join('%s' % classes[labels[j]] for j in range(batch_size)))"
      ],
      "metadata": {
        "colab": {
          "base_uri": "https://localhost:8080/",
          "height": 173
        },
        "id": "judVkVukn0Ua",
        "outputId": "f09d94d5-cbd4-4ccc-c071-7c8b4042c356"
      },
      "execution_count": null,
      "outputs": [
        {
          "output_type": "stream",
          "name": "stdout",
          "text": [
            "torch.Size([4, 1, 28, 28])\n"
          ]
        },
        {
          "output_type": "display_data",
          "data": {
            "text/plain": [
              "<Figure size 432x288 with 1 Axes>"
            ],
            "image/png": "[encoded data removed]"
          },
          "metadata": {
            "needs_background": "light"
          }
        },
        {
          "output_type": "stream",
          "name": "stdout",
          "text": [
            "3 8 0 6\n"
          ]
        }
      ]
    },
    {
      "cell_type": "code",
      "source": [
        "class Net(nn.Module):\n",
        "  ''' Models a simple Convolutional Neural Network'''\n",
        "  def __init__(self): \n",
        "    ''' initialize the network '''\n",
        "    super(Net, self).__init__()\n",
        "    # 1 input image channel, 6 output channels, \n",
        "    # 3x3 square convolution kernel\n",
        "    self.conv1 = nn.Conv2d(1, 6, 5)\n",
        "    # Max pooling over a (2, 2) window\n",
        "    self.pool = nn.MaxPool2d(2, 2)\n",
        "    self.conv2 = nn.Conv2d(6, 16, 5) \n",
        "    self.fc1 = nn.Linear(4*8*8, 120)# 5x5 from image dimension\n",
        "    self.fc2 = nn.Linear(120, 84)\n",
        "    self.fc3 = nn.Linear(84, 10)\n",
        "\n",
        "  def forward(self, x):\n",
        "    ''' the forward propagation algorithm '''\n",
        "    x = self.pool(F.relu(self.conv1(x)))\n",
        "    x = self.pool(F.relu(self.conv2(x)))\n",
        "    x = x.view(-1, 4*8*8)\n",
        "    x = F.relu(self.fc1(x))\n",
        "    x = F.relu(self.fc2(x))\n",
        "    x = self.fc3(x)\n",
        "    return x\n",
        "\n",
        "net = Net()\n",
        "print(net)"
      ],
      "metadata": {
        "colab": {
          "base_uri": "https://localhost:8080/"
        },
        "id": "u4O3vmZUyPwZ",
        "outputId": "dd04e324-9506-4381-8ef1-ca9f93cc3f9b"
      },
      "execution_count": null,
      "outputs": [
        {
          "output_type": "stream",
          "name": "stdout",
          "text": [
            "Net(\n",
            "  (conv1): Conv2d(1, 6, kernel_size=(5, 5), stride=(1, 1))\n",
            "  (pool): MaxPool2d(kernel_size=2, stride=2, padding=0, dilation=1, ceil_mode=False)\n",
            "  (conv2): Conv2d(6, 16, kernel_size=(5, 5), stride=(1, 1))\n",
            "  (fc1): Linear(in_features=256, out_features=120, bias=True)\n",
            "  (fc2): Linear(in_features=120, out_features=84, bias=True)\n",
            "  (fc3): Linear(in_features=84, out_features=10, bias=True)\n",
            ")\n"
          ]
        }
      ]
    },
    {
      "cell_type": "code",
      "source": [
        "criterion = nn.CrossEntropyLoss()\n",
        "optimizer = optim.SGD(net.parameters(), lr=0.001, momentum=0.9)"
      ],
      "metadata": {
        "id": "5CClZ8MJoEeF"
      },
      "execution_count": null,
      "outputs": []
    },
    {
      "cell_type": "code",
      "source": [
        "start = torch.cuda.Event(enable_timing=True)\n",
        "end = torch.cuda.Event(enable_timing=True)\n",
        "\n",
        "start.record()\n",
        "acuracias=[]\n",
        "milissegundos=[]\n",
        "correct=0\n",
        "total=0\n",
        "for epoch in range(2):  # loop over the dataset multiple times\n",
        "\n",
        "    running_loss = 0.0\n",
        "    for i, data in enumerate(trainloader, 0):\n",
        "        # get the inputs; data is a list of [inputs, labels]\n",
        "        inputs, labels = data\n",
        "\n",
        "        # zero the parameter gradients\n",
        "        optimizer.zero_grad()\n",
        "\n",
        "        # forward + backward + optimize\n",
        "        outputs = net(inputs)\n",
        "        loss = criterion(outputs, labels)\n",
        "        loss.backward()\n",
        "        optimizer.step()\n",
        "        _, predicted = torch.max(outputs.data, 1)\n",
        "        # print statistics\n",
        "        total += labels.size(0)\n",
        "        correct += (predicted == labels).sum().item()\n",
        "        running_loss += loss.item()\n",
        "        if i%2000==0:\n",
        "          # print every 2000 mini-batches\n",
        "          end.record()\n",
        "          torch.cuda.synchronize()\n",
        "          acuracias.append(start.elapsed_time(end))\n",
        "          milissegundos.append(correct/total)\n",
        "          end=torch.cuda.Event(enable_timing=True)\n",
        "          correct=0\n",
        "          total=0\n",
        "          print(i)\n",
        "\n",
        "# whatever you are timing goes here\n",
        "end.record()\n",
        "\n",
        "# Waits for everything to finish running\n",
        "torch.cuda.synchronize()\n",
        "\n",
        "print('Finished Training')\n",
        "print(start.elapsed_time(end))  # milliseconds"
      ],
      "metadata": {
        "colab": {
          "base_uri": "https://localhost:8080/"
        },
        "id": "6RbG7hOUoKrv",
        "outputId": "41f29003-ba9f-4a6a-b5c8-7678eaa107ba"
      },
      "execution_count": null,
      "outputs": [
        {
          "output_type": "stream",
          "name": "stdout",
          "text": [
            "0\n",
            "2000\n",
            "4000\n",
            "6000\n",
            "8000\n",
            "10000\n",
            "12000\n",
            "14000\n",
            "16000\n",
            "18000\n",
            "20000\n",
            "22000\n",
            "24000\n",
            "26000\n",
            "28000\n",
            "30000\n",
            "32000\n",
            "34000\n",
            "36000\n",
            "38000\n",
            "40000\n",
            "42000\n",
            "44000\n",
            "46000\n",
            "48000\n",
            "50000\n",
            "52000\n",
            "54000\n",
            "56000\n",
            "58000\n",
            "0\n",
            "2000\n",
            "4000\n",
            "6000\n",
            "8000\n",
            "10000\n",
            "12000\n",
            "14000\n",
            "16000\n",
            "18000\n",
            "20000\n",
            "22000\n",
            "24000\n",
            "26000\n",
            "28000\n",
            "30000\n",
            "32000\n",
            "34000\n",
            "36000\n",
            "38000\n",
            "40000\n",
            "42000\n",
            "44000\n",
            "46000\n",
            "48000\n",
            "50000\n",
            "52000\n",
            "54000\n",
            "56000\n",
            "58000\n",
            "Finished Training\n",
            "458106.1875\n"
          ]
        }
      ]
    },
    {
      "cell_type": "code",
      "source": [
        "dataiter = iter(testloader)\n",
        "images, labels = dataiter.next()\n",
        "# print images\n",
        "imshow(torchvision.utils.make_grid(images))\n",
        "print('GroundTruth: ', ' '.join('%s' % classes[labels[j]] for j in range(4)))"
      ],
      "metadata": {
        "colab": {
          "base_uri": "https://localhost:8080/",
          "height": 155
        },
        "id": "IpY-v4DAop9y",
        "outputId": "71473ed0-229b-4e19-c0ae-8d75bba58b21"
      },
      "execution_count": null,
      "outputs": [
        {
          "output_type": "display_data",
          "data": {
            "text/plain": [
              "<Figure size 432x288 with 1 Axes>"
            ],
            "image/png": "[encoded data removed]"
          },
          "metadata": {
            "needs_background": "light"
          }
        },
        {
          "output_type": "stream",
          "name": "stdout",
          "text": [
            "GroundTruth:  0 9 7 9\n"
          ]
        }
      ]
    },
    {
      "cell_type": "code",
      "source": [
        "um=[16,18,20,22,24,26,28,30,32,35,37,39,41,43,45]\n",
        "ind=1\n",
        "for i in range(qtd_fotos[2]):\n",
        "      img = read_image(base_path+\"2/IMG-20220922-WA00\"+str(63+i)+\".jpeg\")\n",
        "      write_jpeg(img,base_path+ha_arrumar+\"2\"+str(i)+\".jpeg\")\n"
      ],
      "metadata": {
        "colab": {
          "base_uri": "https://localhost:8080/",
          "height": 235
        },
        "id": "rsWrmiB7OK_v",
        "outputId": "48137d45-737c-44c4-a9c1-a06a78ed3461"
      },
      "execution_count": null,
      "outputs": [
        {
          "output_type": "error",
          "ename": "KeyError",
          "evalue": "ignored",
          "traceback": [
            "\u001b[0;31m---------------------------------------------------------------------------\u001b[0m",
            "\u001b[0;31mKeyError\u001b[0m                                  Traceback (most recent call last)",
            "\u001b[0;32m<ipython-input-12-69e8da226e67>\u001b[0m in \u001b[0;36m<module>\u001b[0;34m\u001b[0m\n\u001b[1;32m      1\u001b[0m \u001b[0mum\u001b[0m\u001b[0;34m=\u001b[0m\u001b[0;34m[\u001b[0m\u001b[0;36m16\u001b[0m\u001b[0;34m,\u001b[0m\u001b[0;36m18\u001b[0m\u001b[0;34m,\u001b[0m\u001b[0;36m20\u001b[0m\u001b[0;34m,\u001b[0m\u001b[0;36m22\u001b[0m\u001b[0;34m,\u001b[0m\u001b[0;36m24\u001b[0m\u001b[0;34m,\u001b[0m\u001b[0;36m26\u001b[0m\u001b[0;34m,\u001b[0m\u001b[0;36m28\u001b[0m\u001b[0;34m,\u001b[0m\u001b[0;36m30\u001b[0m\u001b[0;34m,\u001b[0m\u001b[0;36m32\u001b[0m\u001b[0;34m,\u001b[0m\u001b[0;36m35\u001b[0m\u001b[0;34m,\u001b[0m\u001b[0;36m37\u001b[0m\u001b[0;34m,\u001b[0m\u001b[0;36m39\u001b[0m\u001b[0;34m,\u001b[0m\u001b[0;36m41\u001b[0m\u001b[0;34m,\u001b[0m\u001b[0;36m43\u001b[0m\u001b[0;34m,\u001b[0m\u001b[0;36m45\u001b[0m\u001b[0;34m]\u001b[0m\u001b[0;34m\u001b[0m\u001b[0;34m\u001b[0m\u001b[0m\n\u001b[1;32m      2\u001b[0m \u001b[0mind\u001b[0m\u001b[0;34m=\u001b[0m\u001b[0;36m1\u001b[0m\u001b[0;34m\u001b[0m\u001b[0;34m\u001b[0m\u001b[0m\n\u001b[0;32m----> 3\u001b[0;31m \u001b[0;32mfor\u001b[0m \u001b[0mi\u001b[0m \u001b[0;32min\u001b[0m \u001b[0mrange\u001b[0m\u001b[0;34m(\u001b[0m\u001b[0mqtd_fotos\u001b[0m\u001b[0;34m[\u001b[0m\u001b[0;36m2\u001b[0m\u001b[0;34m]\u001b[0m\u001b[0;34m)\u001b[0m\u001b[0;34m:\u001b[0m\u001b[0;34m\u001b[0m\u001b[0;34m\u001b[0m\u001b[0m\n\u001b[0m\u001b[1;32m      4\u001b[0m       \u001b[0mimg\u001b[0m \u001b[0;34m=\u001b[0m \u001b[0mread_image\u001b[0m\u001b[0;34m(\u001b[0m\u001b[0mbase_path\u001b[0m\u001b[0;34m+\u001b[0m\u001b[0;34m\"2/IMG-20220922-WA00\"\u001b[0m\u001b[0;34m+\u001b[0m\u001b[0mstr\u001b[0m\u001b[0;34m(\u001b[0m\u001b[0;36m63\u001b[0m\u001b[0;34m+\u001b[0m\u001b[0mi\u001b[0m\u001b[0;34m)\u001b[0m\u001b[0;34m+\u001b[0m\u001b[0;34m\".jpeg\"\u001b[0m\u001b[0;34m)\u001b[0m\u001b[0;34m\u001b[0m\u001b[0;34m\u001b[0m\u001b[0m\n\u001b[1;32m      5\u001b[0m       \u001b[0mwrite_jpeg\u001b[0m\u001b[0;34m(\u001b[0m\u001b[0mimg\u001b[0m\u001b[0;34m,\u001b[0m\u001b[0mbase_path\u001b[0m\u001b[0;34m+\u001b[0m\u001b[0mha_arrumar\u001b[0m\u001b[0;34m+\u001b[0m\u001b[0;34m\"2\"\u001b[0m\u001b[0;34m+\u001b[0m\u001b[0mstr\u001b[0m\u001b[0;34m(\u001b[0m\u001b[0mi\u001b[0m\u001b[0;34m)\u001b[0m\u001b[0;34m+\u001b[0m\u001b[0;34m\".jpeg\"\u001b[0m\u001b[0;34m)\u001b[0m\u001b[0;34m\u001b[0m\u001b[0;34m\u001b[0m\u001b[0m\n",
            "\u001b[0;31mKeyError\u001b[0m: 2"
          ]
        }
      ]
    },
    {
      "cell_type": "code",
      "source": [
        "outputs = net(images)\n",
        "\n",
        "_, predicted = torch.max(outputs, 1)\n",
        "\n",
        "print('Predicted: ', ' '.join('%s' % classes[predicted[j]]\n",
        "                              for j in range(4)))"
      ],
      "metadata": {
        "id": "Egpk1Afyor8L"
      },
      "execution_count": null,
      "outputs": []
    },
    {
      "cell_type": "code",
      "source": [
        "correct = 0\n",
        "total = 0\n",
        "res=[0,0,0,0,0,0,0,0,0,0]\n",
        "acerto=[0,0,0,0,0,0,0,0,0,0]\n",
        "acu=[0,0,0,0,0,0,0,0,0,0]\n",
        "with torch.no_grad():\n",
        "    for data in testloader:\n",
        "        images, labels = data\n",
        "        outputs = net(images)\n",
        "        _, predicted = torch.max(outputs.data, 1)\n",
        "        total += labels.size(0)\n",
        "        for i in range(len(labels)):\n",
        "          res[predicted[i].item()]+=1\n",
        "          acerto[labels[i]]+=(predicted[i].item() == labels[i].item())\n",
        "        correct += (predicted == labels).sum().item()\n",
        "print(res,acerto)\n",
        "for i in range(10):\n",
        "  acu[i]=acerto[i]/res[i]\n",
        "print(acu)\n",
        "print(f'Accuracy of the network on the 10000 test images: {(correct / total)}')"
      ],
      "metadata": {
        "colab": {
          "base_uri": "https://localhost:8080/"
        },
        "id": "QRvyduLupJn8",
        "outputId": "aa60604b-2e28-4d0b-9e62-2700f7c9701e"
      },
      "execution_count": null,
      "outputs": [
        {
          "output_type": "stream",
          "name": "stdout",
          "text": [
            "[4003, 3982, 3977, 3979, 3956, 4035, 4008, 4047, 4002, 4011] [3980, 3978, 3953, 3955, 3939, 3981, 3981, 3990, 3967, 3953]\n",
            "[0.9942543092680489, 0.9989954796584631, 0.993965300477747, 0.9939683337521991, 0.9957027300303337, 0.9866171003717472, 0.9932634730538922, 0.9859154929577465, 0.9912543728135932, 0.9855397656444776]\n",
            "Accuracy of the network on the 10000 test images: 0.991925\n"
          ]
        }
      ]
    },
    {
      "cell_type": "code",
      "source": [
        "#Resize Banco\n",
        "resize(0,9,True)\n",
        "resize(0,9,False)"
      ],
      "metadata": {
        "id": "FTRBLQ6ZeTHL"
      },
      "execution_count": null,
      "outputs": []
    },
    {
      "cell_type": "code",
      "source": [
        "#Fazendo a matriz com acertos e respostas para escolher a melhor\n",
        "maior=0\n",
        "treino_x=[]\n",
        "for t in range(124,206,5):\n",
        "  con=t\n",
        "  to_black(0,9,True)\n",
        "  for i in range(0,10):\n",
        "    for j in range(qtd_fotos[treino[:6]][i]):\n",
        "      image=Image.open(base_path+treino+arrumado+str(i)+str(j+1)+\".jpg\")\n",
        "      val=transform(image)\n",
        "      outputs=net(val)\n",
        "      _, prediced = torch.max(outputs.data, 1)\n",
        "      linha=[]\n",
        "      for k in range(10):\n",
        "        linha.append(predicted.item())\n",
        "      linha.append(i)\n",
        "      treino_x.append(linha)\n",
        "treino_x"
      ],
      "metadata": {
        "id": "X0j_FWc6SXvb",
        "colab": {
          "base_uri": "https://localhost:8080/",
          "height": 380
        },
        "outputId": "73ad0ca0-d650-4514-ac64-de9b4735dd83"
      },
      "execution_count": null,
      "outputs": [
        {
          "output_type": "error",
          "ename": "KeyboardInterrupt",
          "evalue": "ignored",
          "traceback": [
            "\u001b[0;31m---------------------------------------------------------------------------\u001b[0m",
            "\u001b[0;31mKeyboardInterrupt\u001b[0m                         Traceback (most recent call last)",
            "\u001b[0;32m<ipython-input-14-6a62676ed116>\u001b[0m in \u001b[0;36m<module>\u001b[0;34m\u001b[0m\n\u001b[1;32m      4\u001b[0m \u001b[0;32mfor\u001b[0m \u001b[0mt\u001b[0m \u001b[0;32min\u001b[0m \u001b[0mrange\u001b[0m\u001b[0;34m(\u001b[0m\u001b[0;36m124\u001b[0m\u001b[0;34m,\u001b[0m\u001b[0;36m206\u001b[0m\u001b[0;34m,\u001b[0m\u001b[0;36m5\u001b[0m\u001b[0;34m)\u001b[0m\u001b[0;34m:\u001b[0m\u001b[0;34m\u001b[0m\u001b[0;34m\u001b[0m\u001b[0m\n\u001b[1;32m      5\u001b[0m   \u001b[0mcon\u001b[0m\u001b[0;34m=\u001b[0m\u001b[0mt\u001b[0m\u001b[0;34m\u001b[0m\u001b[0;34m\u001b[0m\u001b[0m\n\u001b[0;32m----> 6\u001b[0;31m   \u001b[0mto_black\u001b[0m\u001b[0;34m(\u001b[0m\u001b[0;36m0\u001b[0m\u001b[0;34m,\u001b[0m\u001b[0;36m9\u001b[0m\u001b[0;34m,\u001b[0m\u001b[0;32mTrue\u001b[0m\u001b[0;34m)\u001b[0m\u001b[0;34m\u001b[0m\u001b[0;34m\u001b[0m\u001b[0m\n\u001b[0m\u001b[1;32m      7\u001b[0m   \u001b[0;32mfor\u001b[0m \u001b[0mi\u001b[0m \u001b[0;32min\u001b[0m \u001b[0mrange\u001b[0m\u001b[0;34m(\u001b[0m\u001b[0;36m0\u001b[0m\u001b[0;34m,\u001b[0m\u001b[0;36m10\u001b[0m\u001b[0;34m)\u001b[0m\u001b[0;34m:\u001b[0m\u001b[0;34m\u001b[0m\u001b[0;34m\u001b[0m\u001b[0m\n\u001b[1;32m      8\u001b[0m     \u001b[0;32mfor\u001b[0m \u001b[0mj\u001b[0m \u001b[0;32min\u001b[0m \u001b[0mrange\u001b[0m\u001b[0;34m(\u001b[0m\u001b[0mqtd_fotos\u001b[0m\u001b[0;34m[\u001b[0m\u001b[0mtreino\u001b[0m\u001b[0;34m[\u001b[0m\u001b[0;34m:\u001b[0m\u001b[0;36m6\u001b[0m\u001b[0;34m]\u001b[0m\u001b[0;34m]\u001b[0m\u001b[0;34m[\u001b[0m\u001b[0mi\u001b[0m\u001b[0;34m]\u001b[0m\u001b[0;34m)\u001b[0m\u001b[0;34m:\u001b[0m\u001b[0;34m\u001b[0m\u001b[0;34m\u001b[0m\u001b[0m\n",
            "\u001b[0;32m<ipython-input-5-2bd1c209e827>\u001b[0m in \u001b[0;36mto_black\u001b[0;34m(x, y, treinamento)\u001b[0m\n\u001b[1;32m     15\u001b[0m \u001b[0;34m\u001b[0m\u001b[0m\n\u001b[1;32m     16\u001b[0m \u001b[0;34m\u001b[0m\u001b[0m\n\u001b[0;32m---> 17\u001b[0;31m       \u001b[0mwrite_jpeg\u001b[0m\u001b[0;34m(\u001b[0m\u001b[0mval\u001b[0m\u001b[0;34m,\u001b[0m\u001b[0mbase_path\u001b[0m\u001b[0;34m+\u001b[0m\u001b[0mtipo_bd\u001b[0m\u001b[0;34m+\u001b[0m\u001b[0marrumado\u001b[0m\u001b[0;34m+\u001b[0m\u001b[0mstr\u001b[0m\u001b[0;34m(\u001b[0m\u001b[0mj\u001b[0m\u001b[0;34m)\u001b[0m\u001b[0;34m+\u001b[0m\u001b[0mstr\u001b[0m\u001b[0;34m(\u001b[0m\u001b[0mi\u001b[0m\u001b[0;34m+\u001b[0m\u001b[0;36m1\u001b[0m\u001b[0;34m)\u001b[0m\u001b[0;34m+\u001b[0m\u001b[0;34m\".jpg\"\u001b[0m\u001b[0;34m)\u001b[0m\u001b[0;34m\u001b[0m\u001b[0;34m\u001b[0m\u001b[0m\n\u001b[0m",
            "\u001b[0;32m/usr/local/lib/python3.7/dist-packages/torchvision/io/image.py\u001b[0m in \u001b[0;36mwrite_jpeg\u001b[0;34m(input, filename, quality)\u001b[0m\n\u001b[1;32m    203\u001b[0m         \u001b[0m_log_api_usage_once\u001b[0m\u001b[0;34m(\u001b[0m\u001b[0mwrite_jpeg\u001b[0m\u001b[0;34m)\u001b[0m\u001b[0;34m\u001b[0m\u001b[0;34m\u001b[0m\u001b[0m\n\u001b[1;32m    204\u001b[0m     \u001b[0moutput\u001b[0m \u001b[0;34m=\u001b[0m \u001b[0mencode_jpeg\u001b[0m\u001b[0;34m(\u001b[0m\u001b[0minput\u001b[0m\u001b[0;34m,\u001b[0m \u001b[0mquality\u001b[0m\u001b[0;34m)\u001b[0m\u001b[0;34m\u001b[0m\u001b[0;34m\u001b[0m\u001b[0m\n\u001b[0;32m--> 205\u001b[0;31m     \u001b[0mwrite_file\u001b[0m\u001b[0;34m(\u001b[0m\u001b[0mfilename\u001b[0m\u001b[0;34m,\u001b[0m \u001b[0moutput\u001b[0m\u001b[0;34m)\u001b[0m\u001b[0;34m\u001b[0m\u001b[0;34m\u001b[0m\u001b[0m\n\u001b[0m\u001b[1;32m    206\u001b[0m \u001b[0;34m\u001b[0m\u001b[0m\n\u001b[1;32m    207\u001b[0m \u001b[0;34m\u001b[0m\u001b[0m\n",
            "\u001b[0;32m/usr/local/lib/python3.7/dist-packages/torchvision/io/image.py\u001b[0m in \u001b[0;36mwrite_file\u001b[0;34m(filename, data)\u001b[0m\n\u001b[1;32m     60\u001b[0m     \u001b[0;32mif\u001b[0m \u001b[0;32mnot\u001b[0m \u001b[0mtorch\u001b[0m\u001b[0;34m.\u001b[0m\u001b[0mjit\u001b[0m\u001b[0;34m.\u001b[0m\u001b[0mis_scripting\u001b[0m\u001b[0;34m(\u001b[0m\u001b[0;34m)\u001b[0m \u001b[0;32mand\u001b[0m \u001b[0;32mnot\u001b[0m \u001b[0mtorch\u001b[0m\u001b[0;34m.\u001b[0m\u001b[0mjit\u001b[0m\u001b[0;34m.\u001b[0m\u001b[0mis_tracing\u001b[0m\u001b[0;34m(\u001b[0m\u001b[0;34m)\u001b[0m\u001b[0;34m:\u001b[0m\u001b[0;34m\u001b[0m\u001b[0;34m\u001b[0m\u001b[0m\n\u001b[1;32m     61\u001b[0m         \u001b[0m_log_api_usage_once\u001b[0m\u001b[0;34m(\u001b[0m\u001b[0mwrite_file\u001b[0m\u001b[0;34m)\u001b[0m\u001b[0;34m\u001b[0m\u001b[0;34m\u001b[0m\u001b[0m\n\u001b[0;32m---> 62\u001b[0;31m     \u001b[0mtorch\u001b[0m\u001b[0;34m.\u001b[0m\u001b[0mops\u001b[0m\u001b[0;34m.\u001b[0m\u001b[0mimage\u001b[0m\u001b[0;34m.\u001b[0m\u001b[0mwrite_file\u001b[0m\u001b[0;34m(\u001b[0m\u001b[0mfilename\u001b[0m\u001b[0;34m,\u001b[0m \u001b[0mdata\u001b[0m\u001b[0;34m)\u001b[0m\u001b[0;34m\u001b[0m\u001b[0;34m\u001b[0m\u001b[0m\n\u001b[0m\u001b[1;32m     63\u001b[0m \u001b[0;34m\u001b[0m\u001b[0m\n\u001b[1;32m     64\u001b[0m \u001b[0;34m\u001b[0m\u001b[0m\n",
            "\u001b[0;32m/usr/local/lib/python3.7/dist-packages/torch/_ops.py\u001b[0m in \u001b[0;36m__call__\u001b[0;34m(self, *args, **kwargs)\u001b[0m\n\u001b[1;32m    141\u001b[0m         \u001b[0;31m# We save the function ptr as the `op` attribute on\u001b[0m\u001b[0;34m\u001b[0m\u001b[0;34m\u001b[0m\u001b[0;34m\u001b[0m\u001b[0m\n\u001b[1;32m    142\u001b[0m         \u001b[0;31m# OpOverloadPacket to access it here.\u001b[0m\u001b[0;34m\u001b[0m\u001b[0;34m\u001b[0m\u001b[0;34m\u001b[0m\u001b[0m\n\u001b[0;32m--> 143\u001b[0;31m         \u001b[0;32mreturn\u001b[0m \u001b[0mself\u001b[0m\u001b[0;34m.\u001b[0m\u001b[0m_op\u001b[0m\u001b[0;34m(\u001b[0m\u001b[0;34m*\u001b[0m\u001b[0margs\u001b[0m\u001b[0;34m,\u001b[0m \u001b[0;34m**\u001b[0m\u001b[0mkwargs\u001b[0m \u001b[0;32mor\u001b[0m \u001b[0;34m{\u001b[0m\u001b[0;34m}\u001b[0m\u001b[0;34m)\u001b[0m\u001b[0;34m\u001b[0m\u001b[0;34m\u001b[0m\u001b[0m\n\u001b[0m\u001b[1;32m    144\u001b[0m \u001b[0;34m\u001b[0m\u001b[0m\n\u001b[1;32m    145\u001b[0m     \u001b[0;31m# TODO: use this to make a __dir__\u001b[0m\u001b[0;34m\u001b[0m\u001b[0;34m\u001b[0m\u001b[0;34m\u001b[0m\u001b[0m\n",
            "\u001b[0;31mKeyboardInterrupt\u001b[0m: "
          ]
        }
      ]
    },
    {
      "cell_type": "code",
      "source": [
        "maior=0\n",
        "treino_x=[]\n",
        "maior=[0,0,0,0,0,0,0,0,0,0]\n",
        "for t in range(124,206,5):\n",
        "  con=t\n",
        "  to_black(0,9,False)\n",
        "  acertos=[0,0,0,0,0,0,0,0,0,0]\n",
        "  resposta=[0,0,0,0,0,0,0,0,0,0]\n",
        "  for i in range(0,10):\n",
        "    for j in range(qtd_fotos[teste[:6]][i]):\n",
        "      image=Image.open(base_path+teste+arrumado+str(i)+str(j+1)+\".jpg\")\n",
        "      val=transform(image)\n",
        "      outputs=net(val)\n",
        "      _, prediced = torch.max(outputs.data, 1)\n",
        "      acertos[i]+=(prediced.item()==i)\n",
        "      resposta[prediced.item()]+=1\n",
        "  print(acertos,resposta)\n",
        "  for i in range(10):\n",
        "    \n",
        "    maior[i]=max(maior[i],acertos[i]/max(resposta[i],1))\n",
        "print(maior)"
      ],
      "metadata": {
        "colab": {
          "base_uri": "https://localhost:8080/"
        },
        "id": "ONIEFmIx2HUH",
        "outputId": "2f802d2a-4381-469e-9790-ac700e40db25"
      },
      "execution_count": null,
      "outputs": [
        {
          "output_type": "stream",
          "name": "stdout",
          "text": [
            "[5, 4, 0, 1, 13, 1, 0, 1, 14, 5] [8, 8, 22, 6, 14, 40, 4, 15, 58, 7]\n",
            "[6, 5, 0, 1, 16, 0, 0, 3, 14, 7] [10, 8, 26, 7, 17, 38, 3, 15, 47, 11]\n",
            "[7, 5, 0, 1, 16, 1, 0, 3, 14, 8] [11, 9, 24, 7, 17, 40, 3, 17, 44, 10]\n",
            "[7, 6, 0, 0, 15, 1, 0, 3, 14, 6] [12, 10, 26, 4, 16, 45, 2, 17, 42, 8]\n",
            "[7, 5, 0, 1, 19, 0, 0, 4, 13, 5] [10, 9, 25, 5, 21, 47, 3, 17, 37, 8]\n",
            "[5, 5, 1, 0, 16, 0, 0, 6, 14, 6] [8, 11, 25, 5, 17, 50, 2, 17, 36, 11]\n",
            "[9, 8, 1, 0, 16, 0, 1, 5, 11, 6] [12, 15, 24, 8, 17, 48, 3, 19, 27, 9]\n",
            "[9, 13, 1, 1, 16, 0, 2, 8, 9, 3] [13, 24, 19, 8, 18, 43, 3, 23, 25, 6]\n",
            "[9, 13, 3, 1, 15, 0, 2, 7, 9, 3] [14, 30, 22, 5, 18, 40, 3, 21, 25, 4]\n",
            "[7, 12, 4, 1, 14, 0, 0, 9, 5, 2] [9, 37, 23, 7, 18, 37, 1, 27, 18, 5]\n",
            "[7, 13, 2, 0, 12, 0, 0, 10, 4, 1] [8, 54, 22, 8, 16, 32, 0, 27, 12, 3]\n",
            "[6, 13, 3, 1, 8, 1, 0, 12, 4, 0] [6, 73, 17, 11, 11, 24, 0, 24, 12, 4]\n",
            "[3, 14, 3, 1, 9, 1, 0, 9, 1, 1] [4, 87, 14, 7, 10, 24, 1, 24, 7, 4]\n",
            "[2, 13, 2, 1, 9, 0, 0, 10, 1, 0] [2, 103, 16, 7, 9, 15, 0, 25, 3, 2]\n",
            "[1, 13, 2, 0, 3, 0, 0, 8, 0, 0] [2, 127, 9, 4, 4, 9, 1, 24, 0, 2]\n",
            "[1, 14, 1, 0, 1, 0, 0, 7, 0, 0] [1, 144, 5, 5, 1, 6, 0, 20, 0, 0]\n",
            "[1, 14, 0, 0, 0, 1, 0, 5, 0, 0] [1, 160, 2, 3, 0, 4, 0, 12, 0, 0]\n",
            "[1.0, 0.625, 0.2222222222222222, 0.2, 1.0, 0.25, 0.6666666666666666, 0.5, 0.4074074074074074, 0.8]\n"
          ]
        }
      ]
    },
    {
      "cell_type": "code",
      "source": [
        "17*182"
      ],
      "metadata": {
        "id": "rvwfBN8vV18E",
        "colab": {
          "base_uri": "https://localhost:8080/"
        },
        "outputId": "6cf61bf8-35e9-42af-cda6-7e604dad1fbb"
      },
      "execution_count": null,
      "outputs": [
        {
          "output_type": "execute_result",
          "data": {
            "text/plain": [
              "3094"
            ]
          },
          "metadata": {},
          "execution_count": 36
        }
      ]
    },
    {
      "cell_type": "code",
      "source": [
        "con=208\n",
        "to_black(0,0,False)"
      ],
      "metadata": {
        "id": "sU8VX0R8MkvB"
      },
      "execution_count": null,
      "outputs": []
    },
    {
      "cell_type": "code",
      "source": [
        "\n",
        "Y=np.array(acuracias[:])\n",
        "X=np.array(milissegundos[:])\n",
        "print(X.size)\n",
        "def logr(x):\n",
        "  res=[]\n",
        "  for i in x:\n",
        "    res.append(math.log(i,600000))\n",
        "  return res\n",
        "Hx = np.linspace(1,600000,1500)\n",
        "Hy = logr(Hx)\n",
        "plt.title(\"ÁcuraciaxTempo\")\n",
        "plt.plot(Hx,Hy)\n",
        "plt.plot(Y,X)\n",
        "plt.legend([\"Função Logarítmica\",\"Dados Reais\"])\n",
        "plt.xlabel(\"Milissegundo\")\n",
        "plt.ylabel(\"Acuracia\")\n",
        "EQM=0\n",
        "for i in range(len(acuracias)):\n",
        "  EQM+=((logr([acuracias[i]])[0])-milissegundos[i])**2\n",
        "print(EQM/X.size)"
      ],
      "metadata": {
        "colab": {
          "base_uri": "https://localhost:8080/",
          "height": 332
        },
        "id": "R5jtch6gPgXZ",
        "outputId": "a839db90-b783-45bd-caaf-04e3a1cf613d"
      },
      "execution_count": null,
      "outputs": [
        {
          "output_type": "stream",
          "name": "stdout",
          "text": [
            "60\n",
            "0.010925786835421234\n"
          ]
        },
        {
          "output_type": "display_data",
          "data": {
            "text/plain": [
              "<Figure size 432x288 with 1 Axes>"
            ],
            "image/png": "[encoded data removed]"
          },
          "metadata": {
            "needs_background": "light"
          }
        }
      ]
    },
    {
      "cell_type": "code",
      "source": [
        "Y=np.array(acuracias[:])\n",
        "X=np.array(milissegundos[:])\n",
        "\n",
        "def logr(x):\n",
        "  res=[]\n",
        "  for i in x:\n",
        "    res.append(math.log(i,600000))\n",
        "  return res\n",
        "def sqrtr(x):\n",
        "  res=[]\n",
        "  for i in x:\n",
        "    res.append(math.log(i,600000))\n",
        "  return res\n",
        "Hx = np.linspace(1,600000,1500)\n",
        "Hy = logr(Hx)\n",
        "plt.title(\"ÁcuraciaxTempo\")\n",
        "plt.plot(Hx,Hy)\n",
        "plt.plot(Y,X)\n",
        "plt.legend([\"Função Logarítmica\",\"Dados Reais\"])\n",
        "plt.xlabel(\"Milissegundo\")\n",
        "plt.ylabel(\"Acuracia\")\n",
        "EQM=0\n",
        "for i in range(len(acuracias)):\n",
        "  EQM+=(logr([acuracias[i]])[0]-milissegundos[i])**2\n",
        "print(EQM/X.size)"
      ],
      "metadata": {
        "id": "j3J0g7wEaXUm"
      },
      "execution_count": null,
      "outputs": []
    },
    {
      "cell_type": "code",
      "source": [
        "from sklearn.cluster import KMeans\n",
        "from sklearn.preprocessing import StandardScaler\n",
        "scaler = StandardScaler()\n",
        "dados_escalados=scaler.fit_transform(treino)\n",
        "modelo=KMeans(n_clusters=17)\n",
        "modelo.fit(dados_escalados)"
      ],
      "metadata": {
        "id": "6QFo3E4XgDfB"
      },
      "execution_count": null,
      "outputs": []
    }
  ]
}